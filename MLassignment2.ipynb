{
 "cells": [
  {
   "cell_type": "code",
   "execution_count": 12,
   "id": "50baea1c",
   "metadata": {},
   "outputs": [
    {
     "name": "stdout",
     "output_type": "stream",
     "text": [
      "* \n",
      "* * \n",
      "* * * \n",
      "* * * * \n",
      "* * * * * \n",
      "* * * * \n",
      "* * * \n",
      "* * \n",
      "* \n",
      "\n"
     ]
    }
   ],
   "source": [
    "r = 5 #using nested for loop for top rows of star pattern \n",
    "for i in range(0, r): \n",
    "    for j in range(0, i + 1): \n",
    "        print(\"*\", end=' ')\n",
    "    print(\"\")  #using nested for loop for decreasing order of the pattern  \n",
    "for i in range(r, 0, -1): \n",
    "    for j in range(0, i - 1): \n",
    "        print(\"*\", end=' ') \n",
    "    print(\"\")      "
   ]
  },
  {
   "cell_type": "code",
   "execution_count": 3,
   "id": "dac150cc",
   "metadata": {},
   "outputs": [
    {
     "name": "stdout",
     "output_type": "stream",
     "text": [
      "20 40 60 80 100 "
     ]
    }
   ],
   "source": [
    "my_list = [10, 20, 30, 40, 50, 60, 70, 80, 90, 100] \n",
    "my_list = [10, 20, 30, 40, 50, 60, 70, 80, 90, 100] \n",
    "# stat from index 1 with step 2( means 1, 3, 5, an so on) \n",
    "for i in my_list[1::2]: \n",
    "    print(i, end=\" \")"
   ]
  },
  {
   "cell_type": "code",
   "execution_count": 7,
   "id": "d3dfae53",
   "metadata": {},
   "outputs": [
    {
     "name": "stdout",
     "output_type": "stream",
     "text": [
      "[23, 'Python', 23.98]\n",
      "[<class 'int'>, <class 'str'>, <class 'float'>]\n"
     ]
    }
   ],
   "source": [
    "x = [23,'Python', 23.98] \n",
    "\n",
    "l = [] #empty list\n",
    "\n",
    "for i in range(len(x)): \n",
    "\n",
    "    #using type function to get types of elements and printing them \n",
    "\n",
    "    l.append(type(x[i])) \n",
    "\n",
    "print(x) \n",
    "print(l)"
   ]
  },
  {
   "cell_type": "code",
   "execution_count": 9,
   "id": "9620a349",
   "metadata": {},
   "outputs": [
    {
     "name": "stdout",
     "output_type": "stream",
     "text": [
      "[1, 2, 3, 4, 5]\n"
     ]
    }
   ],
   "source": [
    "def unique_list(l):  #unique list is created\n",
    "\n",
    "  e = [] #empty list\n",
    "\n",
    "#using for loop \n",
    "\n",
    "  for i in l: \n",
    "\n",
    "    if i not in e: \n",
    "\n",
    "      e.append(i) \n",
    "\n",
    "  return e \n",
    "print(unique_list([1,2,3,3,3,3,4,5]))"
   ]
  },
  {
   "cell_type": "code",
   "execution_count": 13,
   "id": "69678c0a",
   "metadata": {},
   "outputs": [
    {
     "name": "stdout",
     "output_type": "stream",
     "text": [
      "Original String :  The quick Brow Fox\n",
      "Number of Upper case characters :  3\n",
      "Number of Lower case Characters :  12\n"
     ]
    }
   ],
   "source": [
    "#Input String: 'The quick Brow Fox' \n",
    "def UpperLower(s): \n",
    "    d={\"UPPER_CASE\":0, \"LOWER_CASE\":0} \n",
    "    for c in s: \n",
    "        if c.isupper(): #checks upper\n",
    "            d[\"UPPER_CASE\"]+=1 \n",
    "        elif c.islower(): #chekcs lower\n",
    "            d[\"LOWER_CASE\"]+=1 \n",
    "        else: \n",
    "            pass \n",
    "    print (\"Original String : \", s)\n",
    "    print (\"Number of Upper case characters : \", d[\"UPPER_CASE\"]) \n",
    "    print (\"Number of Lower case Characters : \", d[\"LOWER_CASE\"]) \n",
    "UpperLower('The quick Brow Fox') "
   ]
  },
  {
   "cell_type": "code",
   "execution_count": null,
   "id": "89fd62e2",
   "metadata": {},
   "outputs": [],
   "source": []
  }
 ],
 "metadata": {
  "kernelspec": {
   "display_name": "Python 3 (ipykernel)",
   "language": "python",
   "name": "python3"
  },
  "language_info": {
   "codemirror_mode": {
    "name": "ipython",
    "version": 3
   },
   "file_extension": ".py",
   "mimetype": "text/x-python",
   "name": "python",
   "nbconvert_exporter": "python",
   "pygments_lexer": "ipython3",
   "version": "3.9.13"
  }
 },
 "nbformat": 4,
 "nbformat_minor": 5
}
